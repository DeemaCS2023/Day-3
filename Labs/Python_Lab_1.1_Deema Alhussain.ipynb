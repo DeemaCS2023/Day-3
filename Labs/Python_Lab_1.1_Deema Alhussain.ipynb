{
 "cells": [
  {
   "cell_type": "markdown",
   "metadata": {},
   "source": [
    "# Python_Lab_1.1\n"
   ]
  },
  {
   "cell_type": "markdown",
   "metadata": {},
   "source": [
    "### Task 1\n",
    "1. Print a welcome message.\n",
    "2. Create variables to store the following details:\n",
    "    - Your name (string)\n",
    "    - Your age (integer)\n",
    "    - Your height (float)\n",
    "    - Whether you are a student (boolean)\n",
    "3. Print these details.\n"
   ]
  },
  {
   "cell_type": "code",
   "execution_count": 7,
   "metadata": {},
   "outputs": [
    {
     "name": "stdout",
     "output_type": "stream",
     "text": [
      "welcome message\n",
      "Name:Deema Alhussain\n",
      "Age: 23\n",
      "Height: 1.6\n",
      "Status:False\n"
     ]
    }
   ],
   "source": [
    "print(\"welcome message\")\n",
    "\n",
    "my_name=\"Deema Alhussain\"\n",
    "my_age=23\n",
    "my_height=1.60\n",
    "my_status=False\n",
    "\n",
    "print(f\"Name:{my_name}\\nAge: {my_age}\\nHeight: {my_height}\\nStatus:{my_status}\")"
   ]
  },
  {
   "cell_type": "markdown",
   "metadata": {},
   "source": [
    "### Task 2\n",
    " 1. Create a list of 5 favorite fruits.\n",
    " 2. Create a list with the price of each fruit.\n",
    " 3. Print the data types of these lists."
   ]
  },
  {
   "cell_type": "code",
   "execution_count": 2,
   "metadata": {},
   "outputs": [
    {
     "name": "stdout",
     "output_type": "stream",
     "text": [
      "<class 'list'>\n"
     ]
    }
   ],
   "source": [
    "my_favorite_fruits=[\"Orange\",\"Mango\",\"Lemon\",\"Blueberry\",\"Cherry\"]\n",
    "\n",
    "favorite_fruits_with_price=[\n",
    "\n",
    "[\"Orange\",4],\n",
    "[\"Mango\",6],\n",
    "[\"Lemon\",10],\n",
    "[\"Blueberry\",2],\n",
    "[\"Cherry\",3] \n",
    "]\n",
    "\n",
    "print(type(favorite_fruits_with_price))"
   ]
  },
  {
   "cell_type": "markdown",
   "metadata": {},
   "source": [
    "### Task 3\n",
    "1. Print the names of all fruits using a loop.\n",
    "2. Using a while loop and input built-in function, do the following:\n",
    "    - Ask the the user : \"what is the product of 7 * 24 ?\"\n",
    "    - check if the answer is right then exit the loop and print \"You answered this Question correctly\".\n",
    "    - if the answer is wrong, then print \"Your Answer is wrong try again..\" and show the user the question again.\n",
    "3. Build a program that takes one defined variable of type int, then it prints out the result formatted like the following pattern (if we give it 5 for example):\n",
    "\n",
    "    5 4 3 2 1\n",
    "\n",
    "    4 3 2 1\n",
    "\n",
    "    3 2 1\n",
    "\n",
    "    2 1\n",
    "    \n",
    "    1"
   ]
  },
  {
   "cell_type": "code",
   "execution_count": 2,
   "metadata": {},
   "outputs": [
    {
     "name": "stdout",
     "output_type": "stream",
     "text": [
      "Orange\n",
      "Mango\n",
      "Lemon\n",
      "Blueberry\n",
      "Cherry\n"
     ]
    }
   ],
   "source": [
    "my_favorite_fruits=[\"Orange\",\"Mango\",\"Lemon\",\"Blueberry\",\"Cherry\"]\n",
    "for n in my_favorite_fruits :\n",
    "    print(n)"
   ]
  },
  {
   "cell_type": "code",
   "execution_count": 6,
   "metadata": {},
   "outputs": [
    {
     "name": "stdout",
     "output_type": "stream",
     "text": [
      "Your Answer is wrong try again..\n",
      "You answered this Question correctly\n"
     ]
    }
   ],
   "source": [
    "\n",
    "    \n",
    " \n",
    "while True :\n",
    "   user_answer=input(\"what is the product of 7 * 24 ?\")\n",
    "\n",
    "   if int(user_answer) == (7*24):\n",
    "    print(\"You answered this Question correctly\")\n",
    "    break\n",
    "   \n",
    "   else:\n",
    "    \n",
    "      print(\"Your Answer is wrong try again..\")\n",
    "    \n",
    "    "
   ]
  },
  {
   "cell_type": "code",
   "execution_count": null,
   "metadata": {},
   "outputs": [
    {
     "name": "stdout",
     "output_type": "stream",
     "text": [
      "5 4 3 2 1 \n",
      "4 3 2 1 \n",
      "3 2 1 \n",
      "2 1 \n",
      "1 \n"
     ]
    }
   ],
   "source": [
    "integer_number=int(input(\"Enter your number :\"))\n",
    "\n",
    "for n in range(integer_number,0,-1):\n",
    "    for i in range(n,0,-1):\n",
    "        print(i,end =' ')\n",
    "    print()\n",
    "   "
   ]
  },
  {
   "cell_type": "markdown",
   "metadata": {},
   "source": [
    "### Task 4\n",
    "You want to recommend a movie to a friend based on the rating and popularity. To accomplish this do the following:\n",
    "\n",
    "- Create a variable for the movie (choose any movie you like).\n",
    "- Create a variable of type int to hold the rating of the movie out of 5. Give this movie rate = 3\n",
    "- Create a popularity score of type float, let it be 72.65\n",
    "- Using an if statement:\n",
    "    - Check if the movie rating is 4 or greater and the popularity is greater than 80, print \"Highly recommended\".\n",
    "    - Else if the movie rating is 3 or greater and the popularity is greater than 70, print \"I recommended it, It is good\".\n",
    "    - Else if the movie rating is 2 or less and the popularity is greater than 60, print \"You should check it out!\".\n",
    "    - Else the movie rating is 2 or less and the popularity is less than 50, print \"Don't watch it, It is a waste of time\"."
   ]
  },
  {
   "cell_type": "code",
   "execution_count": 46,
   "metadata": {},
   "outputs": [
    {
     "name": "stdout",
     "output_type": "stream",
     "text": [
      "I recommended it, It is good\n"
     ]
    }
   ],
   "source": [
    "recommend_movie=\"Venom\"\n",
    "movie_rate = 3\n",
    "popularity_score=72.65\n",
    "\n",
    "if movie_rate>=4 and popularity_score >= 80:\n",
    "    print( \"Highly recommended\")\n",
    "elif movie_rate>=3 and popularity_score >= 70:\n",
    "        print( \"I recommended it, It is good\")\n",
    "elif movie_rate>=2 and popularity_score >= 60:\n",
    "        print( \"You should check it out!\")\n",
    "else:\n",
    "        print( \"Don't watch it, It is a waste of time\")  \n"
   ]
  }
 ],
 "metadata": {
  "kernelspec": {
   "display_name": "Python 3",
   "language": "python",
   "name": "python3"
  },
  "language_info": {
   "codemirror_mode": {
    "name": "ipython",
    "version": 3
   },
   "file_extension": ".py",
   "mimetype": "text/x-python",
   "name": "python",
   "nbconvert_exporter": "python",
   "pygments_lexer": "ipython3",
   "version": "3.12.6"
  }
 },
 "nbformat": 4,
 "nbformat_minor": 2
}
