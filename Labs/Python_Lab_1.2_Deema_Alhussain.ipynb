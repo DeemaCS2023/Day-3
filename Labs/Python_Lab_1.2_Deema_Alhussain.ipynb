{
 "cells": [
  {
   "cell_type": "markdown",
   "metadata": {},
   "source": [
    "# Python_Lab_1.2"
   ]
  },
  {
   "cell_type": "markdown",
   "metadata": {},
   "source": [
    "### Task 1: \n",
    "1. Create a tuple with the following details:\n",
    "    - Your favorite movie (string)\n",
    "    - The year it was released (integer)\n",
    "    - Its rating out of 10 (float)\n",
    "    - Whether you have watched it (boolean)\n",
    "2. Print the detailes"
   ]
  },
  {
   "cell_type": "code",
   "execution_count": 1,
   "metadata": {},
   "outputs": [
    {
     "name": "stdout",
     "output_type": "stream",
     "text": [
      "Movie name:venom \n",
      " Year:2024\n",
      " Movie score:8.5\n",
      " Status watched: True\n"
     ]
    }
   ],
   "source": [
    "my_favorite_movie=(\"venom\")\n",
    "year=2024\n",
    "movie_score=8.50\n",
    "status_watched=True\n",
    "\n",
    "print(f\"Movie name:{my_favorite_movie} \\n Year:{year}\\n Movie score:{movie_score}\\n Status watched: {status_watched}\")\n"
   ]
  },
  {
   "cell_type": "markdown",
   "metadata": {},
   "source": [
    "### Task 2:\n",
    "1. Create a set of 5 favorite colors.\n",
    "2. Print all the colors"
   ]
  },
  {
   "cell_type": "code",
   "execution_count": 4,
   "metadata": {},
   "outputs": [
    {
     "name": "stdout",
     "output_type": "stream",
     "text": [
      "{'Grey ', 'Green', 'White', 'black', 'blue'}\n"
     ]
    }
   ],
   "source": [
    "my_favorite_colors={\"Blue\",\"Black\",\"White\",\"Green\",\"Grey \"}\n",
    "print(my_favorite_colors)\n"
   ]
  },
  {
   "cell_type": "markdown",
   "metadata": {},
   "source": [
    "### Task 3:\n",
    "1. Create a dictionary to store information about 3 friends (name as key and a tuple with age and favorite hobby as value).\n",
    "2. Print the details of all friends."
   ]
  },
  {
   "cell_type": "code",
   "execution_count": 5,
   "metadata": {},
   "outputs": [
    {
     "name": "stdout",
     "output_type": "stream",
     "text": [
      "{'Reham': (22, 'drawing'), 'Noura': (22, 'reading'), 'Huda': (22, 'playing games')}\n"
     ]
    }
   ],
   "source": [
    "My_favorite_friends={\"Reham\":(22,\"drawing\") ,\"Noura\":(22,\"reading\"), \"Huda\":(22,\"playing games\")}\n",
    "print(My_favorite_friends)"
   ]
  },
  {
   "cell_type": "markdown",
   "metadata": {},
   "source": [
    "### Task 4:\n",
    "1. Check if you have watched the movie and print an appropriate message.\n",
    "1. Check if a specific color is in your favorite colors set and print its availability status."
   ]
  },
  {
   "cell_type": "code",
   "execution_count": 9,
   "metadata": {},
   "outputs": [
    {
     "name": "stdout",
     "output_type": "stream",
     "text": [
      "Nice\n",
      "No, it is not one of my favorite colours\n"
     ]
    }
   ],
   "source": [
    "if status_watched==True:\n",
    "    print(\"Nice\")\n",
    "    \n",
    "specific_color=\"Red\"\n",
    " \n",
    "if  specific_color in my_favorite_colors:\n",
    "\n",
    "    print(\"Yes, it is one of my favorite colours\")\n",
    "else:\n",
    "    print(\"No, it is not one of my favorite colours\")    "
   ]
  },
  {
   "cell_type": "markdown",
   "metadata": {},
   "source": []
  }
 ],
 "metadata": {
  "kernelspec": {
   "display_name": "Python 3",
   "language": "python",
   "name": "python3"
  },
  "language_info": {
   "codemirror_mode": {
    "name": "ipython",
    "version": 3
   },
   "file_extension": ".py",
   "mimetype": "text/x-python",
   "name": "python",
   "nbconvert_exporter": "python",
   "pygments_lexer": "ipython3",
   "version": "3.12.6"
  }
 },
 "nbformat": 4,
 "nbformat_minor": 2
}
